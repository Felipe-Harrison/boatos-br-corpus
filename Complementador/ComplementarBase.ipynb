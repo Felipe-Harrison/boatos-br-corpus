{
 "cells": [
  {
   "cell_type": "markdown",
   "metadata": {},
   "source": [
    "### Imports"
   ]
  },
  {
   "cell_type": "code",
   "execution_count": 1,
   "metadata": {},
   "outputs": [
    {
     "name": "stderr",
     "output_type": "stream",
     "text": [
      "[nltk_data] Downloading package punkt to\n",
      "[nltk_data]     C:\\Users\\harri\\AppData\\Roaming\\nltk_data...\n",
      "[nltk_data]   Package punkt is already up-to-date!\n",
      "[nltk_data] Downloading package averaged_perceptron_tagger to\n",
      "[nltk_data]     C:\\Users\\harri\\AppData\\Roaming\\nltk_data...\n",
      "[nltk_data]   Package averaged_perceptron_tagger is already up-to-\n",
      "[nltk_data]       date!\n"
     ]
    },
    {
     "data": {
      "text/plain": [
       "True"
      ]
     },
     "execution_count": 1,
     "metadata": {},
     "output_type": "execute_result"
    }
   ],
   "source": [
    "import json\n",
    "from collections import Counter\n",
    "import pandas as pd\n",
    "import nltk\n",
    "import emoji\n",
    "import re\n",
    "import nltk\n",
    "nltk.download('punkt')\n",
    "nltk.download('averaged_perceptron_tagger')"
   ]
  },
  {
   "cell_type": "markdown",
   "metadata": {},
   "source": [
    "### Carregando Base Atual"
   ]
  },
  {
   "cell_type": "code",
   "execution_count": 2,
   "metadata": {},
   "outputs": [
    {
     "data": {
      "text/plain": [
       "(20, 7)"
      ]
     },
     "execution_count": 2,
     "metadata": {},
     "output_type": "execute_result"
    }
   ],
   "source": [
    "# Ler Base de dados\n",
    "database = pd.read_json(\"../base_simples/boatos_br_corpus_simples_att.json\")\n",
    "database.shape"
   ]
  },
  {
   "cell_type": "code",
   "execution_count": 3,
   "metadata": {},
   "outputs": [],
   "source": [
    "# Data Extractor\n",
    "\n",
    "def extractEmojis(text:str):\n",
    "    emoji_pattern = re.compile(\n",
    "        r'['\n",
    "        u'\\U0001F600-\\U0001F64F'  # Emoticons\n",
    "        u'\\U0001F300-\\U0001F5FF'  # Símbolos e pictogramas\n",
    "        u'\\U0001F680-\\U0001F6FF'  # Transportes e símbolos de mapa\n",
    "        u'\\U0001F1E0-\\U0001F1FF'  # Bandeiras (iOS)\n",
    "        u'\\U00002500-\\U00002BEF'  # Formas geométricas\n",
    "        u'\\U00002702-\\U000027B0'  # Símbolos adicionais\n",
    "        u'\\U000024C2-\\U0001F251'  # Símbolos miscelâneos\n",
    "        u'\\U0001f926-\\U0001f937'  # Gestos\n",
    "        u'\\U00010000-\\U0010FFFF'  # Caracteres suplementares\n",
    "        u'\\u200d'  # Zero width joiner\n",
    "        u'\\u2640-\\u2642'  # Símbolos de gênero\n",
    "        u'\\u2600-\\u2B55'  # Diversos símbolos e pictogramas\n",
    "        u'\\u23cf'  # Símbolo de ejeção\n",
    "        u'\\u23e9'  # Símbolos de controle de mídia\n",
    "        u'\\u231a'  # Relógios\n",
    "        u'\\ufe0f'  # Variações de caracteres\n",
    "        u'\\u3030'  # Símbolo de alternância\n",
    "        ']+', \n",
    "        flags=re.UNICODE\n",
    "    )\n",
    "    emojis = re.findall(emoji_pattern, text)\n",
    "    return [list(_emoji) for _emoji in emojis]\n",
    "    # return [item for sublist in  [list(_emoji) for _emoji in emojis] for item in sublist]\n",
    "\n",
    "# Palavras em Maiusculo\n",
    "def getNumberWordsUppercase(text:list[str]):\n",
    "    words_in_uppercase = [word for word in text if word.isupper()]\n",
    "    return len(words_in_uppercase)\n",
    "\n",
    "# Quantidade de emojis\n",
    "def getNumberEmojis(text:list[str]):\n",
    "    return len([char for char in text if char in emoji.EMOJI_DATA])\n",
    "\n",
    "def getNumberVerbs(text:str):\n",
    "    palavras = nltk.tokenize.word_tokenize(text)\n",
    "    pos_tags = nltk.pos_tag(palavras)\n",
    "    return len([word for word, pos in pos_tags if pos.startswith('VB')])"
   ]
  },
  {
   "cell_type": "code",
   "execution_count": 4,
   "metadata": {},
   "outputs": [],
   "source": [
    "database_dict = database.to_dict('records')"
   ]
  },
  {
   "cell_type": "code",
   "execution_count": 5,
   "metadata": {},
   "outputs": [],
   "source": [
    "for data in database_dict:\n",
    "    text = data['texto'].split()\n",
    "    data['num-emojis'] = len(extractEmojis(data['texto']))\n",
    "    data['num-verbos'] = getNumberVerbs(data['texto'])\n",
    "    data['num-palavras'] = len(text)\n",
    "    data['num-palavras-maiusculas'] = getNumberWordsUppercase(text)    "
   ]
  },
  {
   "cell_type": "markdown",
   "metadata": {},
   "source": [
    "#### Unir dados novos com a base atual"
   ]
  },
  {
   "cell_type": "code",
   "execution_count": 6,
   "metadata": {},
   "outputs": [],
   "source": [
    "dsNovo = pd.DataFrame(database_dict)\n",
    "ds = pd.concat([dsNovo,database],axis=0)"
   ]
  },
  {
   "cell_type": "code",
   "execution_count": 7,
   "metadata": {},
   "outputs": [],
   "source": [
    "\n",
    "with open(f\"../base_completa/boatos_br_corpus_att.json\",'w+',encoding=\"utf8\") as f:\n",
    "    json.dump(database_dict,f,indent=3,allow_nan=True,ensure_ascii = False)\n",
    "    f.close()"
   ]
  }
 ],
 "metadata": {
  "kernelspec": {
   "display_name": "base",
   "language": "python",
   "name": "python3"
  },
  "language_info": {
   "codemirror_mode": {
    "name": "ipython",
    "version": 3
   },
   "file_extension": ".py",
   "mimetype": "text/x-python",
   "name": "python",
   "nbconvert_exporter": "python",
   "pygments_lexer": "ipython3",
   "version": "3.10.9"
  }
 },
 "nbformat": 4,
 "nbformat_minor": 2
}
