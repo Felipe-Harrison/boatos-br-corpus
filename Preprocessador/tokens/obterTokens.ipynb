{
 "cells": [
  {
   "cell_type": "code",
   "execution_count": 8,
   "metadata": {},
   "outputs": [],
   "source": [
    "import json\n",
    "import nltk\n",
    "import pandas as pd\n",
    "from gensim.models import Word2Vec"
   ]
  },
  {
   "cell_type": "code",
   "execution_count": 9,
   "metadata": {},
   "outputs": [
    {
     "data": {
      "text/plain": [
       "(3351, 11)"
      ]
     },
     "execution_count": 9,
     "metadata": {},
     "output_type": "execute_result"
    }
   ],
   "source": [
    "database = pd.read_json(\"../../base_completa/boatos_br_corpus.json\")\n",
    "database.shape"
   ]
  },
  {
   "cell_type": "code",
   "execution_count": 10,
   "metadata": {},
   "outputs": [],
   "source": [
    "def obterTokens(texto):\n",
    "    tokens = nltk.word_tokenize(texto)\n",
    "    return tokens\n",
    "\n",
    "vocabulario = database['texto-normalizado'].apply(obterTokens).tolist()"
   ]
  },
  {
   "cell_type": "code",
   "execution_count": 19,
   "metadata": {},
   "outputs": [],
   "source": [
    "vector_len = 10\n",
    "model = Word2Vec(vocabulario, vector_size=vector_len, window=5, min_count=1, workers=4)\n",
    "filename_save = f\"modelo_word2vec_{vector_len}.model\"\n",
    "model.save(filename_save)"
   ]
  },
  {
   "cell_type": "code",
   "execution_count": 20,
   "metadata": {},
   "outputs": [],
   "source": [
    "model = Word2Vec.load(filename_save)"
   ]
  },
  {
   "cell_type": "code",
   "execution_count": 21,
   "metadata": {},
   "outputs": [],
   "source": [
    "# Obter todas as palavras do vocabulário\n",
    "vocabWords = list(model.wv.index_to_key)\n",
    "vocab = []\n",
    "\n",
    "for word in vocabWords:\n",
    "    vector = model.wv[word]\n",
    "    vocab.append({\n",
    "        word: vector.tolist()\n",
    "    })"
   ]
  },
  {
   "cell_type": "code",
   "execution_count": 22,
   "metadata": {},
   "outputs": [],
   "source": [
    "with open(f'../vocabulario/boatos_br_corpus_vocab-{vector_len}.txt', 'w') as f:\n",
    "    for word in vocabWords:\n",
    "        vector = model.wv[word].tolist()\n",
    "        f.write(word + \":\" + \";\".join(map(str,vector)) + \"\\n\")\n",
    "    f.close()"
   ]
  }
 ],
 "metadata": {
  "kernelspec": {
   "display_name": "base",
   "language": "python",
   "name": "python3"
  },
  "language_info": {
   "codemirror_mode": {
    "name": "ipython",
    "version": 3
   },
   "file_extension": ".py",
   "mimetype": "text/x-python",
   "name": "python",
   "nbconvert_exporter": "python",
   "pygments_lexer": "ipython3",
   "version": "3.10.9"
  }
 },
 "nbformat": 4,
 "nbformat_minor": 2
}
