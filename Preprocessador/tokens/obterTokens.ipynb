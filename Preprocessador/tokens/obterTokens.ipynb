{
 "cells": [
  {
   "cell_type": "code",
   "execution_count": 2,
   "metadata": {},
   "outputs": [],
   "source": [
    "import json\n",
    "import nltk\n",
    "import pandas as pd\n",
    "from gensim.models import Word2Vec"
   ]
  },
  {
   "cell_type": "code",
   "execution_count": 9,
   "metadata": {},
   "outputs": [
    {
     "data": {
      "text/plain": [
       "(3351, 11)"
      ]
     },
     "execution_count": 9,
     "metadata": {},
     "output_type": "execute_result"
    }
   ],
   "source": [
    "database = pd.read_json(\"../../base_completa/boatos_br_corpus.json\")\n",
    "database.shape"
   ]
  },
  {
   "cell_type": "code",
   "execution_count": 10,
   "metadata": {},
   "outputs": [],
   "source": [
    "def obterTokens(texto):\n",
    "    tokens = nltk.word_tokenize(texto)\n",
    "    return tokens\n",
    "\n",
    "vocabulario = database['texto-normalizado'].apply(obterTokens).tolist()"
   ]
  },
  {
   "cell_type": "code",
   "execution_count": 1,
   "metadata": {},
   "outputs": [],
   "source": [
    "vector_len = 10\n",
    "filename_save = f\"modelo_word2vec_{vector_len}.model\""
   ]
  },
  {
   "cell_type": "code",
   "execution_count": 19,
   "metadata": {},
   "outputs": [],
   "source": [
    "model = Word2Vec(vocabulario, vector_size=vector_len, window=5, min_count=1, workers=4)\n",
    "model.save(filename_save)"
   ]
  },
  {
   "cell_type": "code",
   "execution_count": 3,
   "metadata": {},
   "outputs": [],
   "source": [
    "model = Word2Vec.load(filename_save)"
   ]
  },
  {
   "cell_type": "code",
   "execution_count": 7,
   "metadata": {},
   "outputs": [
    {
     "data": {
      "text/plain": [
       "[('tozzi', 0.9700559377670288),\n",
       " ('donald', 0.9659656882286072),\n",
       " ('noviembre', 0.9550632834434509),\n",
       " ('inácio', 0.9519168734550476),\n",
       " ('messias', 0.949392557144165),\n",
       " ('jair', 0.9461703300476074),\n",
       " ('eliminou', 0.9445247054100037),\n",
       " ('ex', 0.9430570602416992),\n",
       " ('cobrou', 0.9409837126731873),\n",
       " ('narradas', 0.9395623207092285)]"
      ]
     },
     "execution_count": 7,
     "metadata": {},
     "output_type": "execute_result"
    }
   ],
   "source": [
    "# Teste\n",
    "similares = model.wv.most_similar('bolsonaro')\n",
    "similares"
   ]
  },
  {
   "cell_type": "code",
   "execution_count": 21,
   "metadata": {},
   "outputs": [],
   "source": [
    "# Obter todas as palavras do vocabulário\n",
    "vocabWords = list(model.wv.index_to_key)\n",
    "vocab = []\n",
    "\n",
    "for word in vocabWords:\n",
    "    vector = model.wv[word]\n",
    "    vocab.append({\n",
    "        word: vector.tolist()\n",
    "    })"
   ]
  },
  {
   "cell_type": "code",
   "execution_count": 22,
   "metadata": {},
   "outputs": [],
   "source": [
    "with open(f'../vocabulario/boatos_br_corpus_vocab-{vector_len}.txt', 'w') as f:\n",
    "    for word in vocabWords:\n",
    "        vector = model.wv[word].tolist()\n",
    "        f.write(word + \":\" + \";\".join(map(str,vector)) + \"\\n\")\n",
    "    f.close()"
   ]
  }
 ],
 "metadata": {
  "kernelspec": {
   "display_name": "base",
   "language": "python",
   "name": "python3"
  },
  "language_info": {
   "codemirror_mode": {
    "name": "ipython",
    "version": 3
   },
   "file_extension": ".py",
   "mimetype": "text/x-python",
   "name": "python",
   "nbconvert_exporter": "python",
   "pygments_lexer": "ipython3",
   "version": "3.10.9"
  }
 },
 "nbformat": 4,
 "nbformat_minor": 2
}
