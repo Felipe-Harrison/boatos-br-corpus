{
 "cells": [
  {
   "cell_type": "code",
   "execution_count": 1,
   "metadata": {},
   "outputs": [],
   "source": [
    "import json\n",
    "import pandas as pd\n",
    "\n",
    "\n",
    "BASE_PATH = \"../base_completa/boatos_br_corpus.json\"\n",
    "CATEGORIAS_PROCESSADAS_PATH = \"./categorias/categorias_processadas.json\"\n",
    "ORIGENS_PROCESSADAS_PATH = \"./origem/origens_processadas.json\""
   ]
  },
  {
   "cell_type": "code",
   "execution_count": 2,
   "metadata": {},
   "outputs": [],
   "source": [
    "database = pd.read_json(BASE_PATH).to_dict('records')"
   ]
  },
  {
   "cell_type": "markdown",
   "metadata": {},
   "source": [
    "### Carregar dados processados"
   ]
  },
  {
   "cell_type": "code",
   "execution_count": 3,
   "metadata": {},
   "outputs": [],
   "source": [
    "def loadJson(path:str):\n",
    "    aux = []\n",
    "    with open(path,'r') as f:\n",
    "        aux = json.load(f)\n",
    "        f.close()\n",
    "    return aux\n",
    "\n",
    "def normalizarDadoProcessado(dado:str,listaNormalizacao:list) -> int:\n",
    "    return listaNormalizacao[dado] if listaNormalizacao[dado] != None else -1\n",
    " "
   ]
  },
  {
   "cell_type": "code",
   "execution_count": 4,
   "metadata": {},
   "outputs": [],
   "source": [
    "categoriasDict = loadJson(CATEGORIAS_PROCESSADAS_PATH)\n",
    "origensDict = loadJson(ORIGENS_PROCESSADAS_PATH) \n",
    "rotulosDict = {\n",
    "    'falso': 0,\n",
    "    'verdade': 1,\n",
    "    'meia-verdade': 2\n",
    "}"
   ]
  },
  {
   "cell_type": "code",
   "execution_count": 5,
   "metadata": {},
   "outputs": [],
   "source": [
    "for data in database:\n",
    "    data['categorias'] = [normalizarDadoProcessado(x,categoriasDict) for x in data['categorias']]\n",
    "    data['origem'] = normalizarDadoProcessado(data['origem'],origensDict)\n",
    "    data['data-publicacao'] = pd.to_datetime(data['data-publicacao']).timestamp()\n",
    "    data['rotulo'] = normalizarDadoProcessado(data['rotulo'],rotulosDict)"
   ]
  },
  {
   "cell_type": "code",
   "execution_count": 6,
   "metadata": {},
   "outputs": [],
   "source": [
    "with open(f\"../base_processada/boatos_br_corpus_processada_att.json\",'w',encoding=\"utf8\") as f:\n",
    "    json.dump(database,f,indent=3,allow_nan=True,ensure_ascii = False)\n",
    "    f.close()"
   ]
  }
 ],
 "metadata": {
  "kernelspec": {
   "display_name": "base",
   "language": "python",
   "name": "python3"
  },
  "language_info": {
   "codemirror_mode": {
    "name": "ipython",
    "version": 3
   },
   "file_extension": ".py",
   "mimetype": "text/x-python",
   "name": "python",
   "nbconvert_exporter": "python",
   "pygments_lexer": "ipython3",
   "version": "3.10.9"
  }
 },
 "nbformat": 4,
 "nbformat_minor": 2
}
