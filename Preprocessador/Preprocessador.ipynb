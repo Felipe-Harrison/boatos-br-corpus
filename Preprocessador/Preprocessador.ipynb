{
 "cells": [
  {
   "cell_type": "code",
   "execution_count": 21,
   "metadata": {},
   "outputs": [],
   "source": [
    "import json\n",
    "import pandas as pd\n",
    "import re\n",
    "\n",
    "\n",
    "BASE_PATH = \"../base_completa/boatos_br_corpus.json\"\n",
    "CATEGORIAS_PROCESSADAS_PATH = \"./categorias/categorias_processadas.json\"\n",
    "ORIGENS_PROCESSADAS_PATH = \"./origem/origens_processadas.json\"\n",
    "\n",
    "PALAVRAS_PARA_ID_PATH = \"./tokens/tokenstoid.json\""
   ]
  },
  {
   "cell_type": "code",
   "execution_count": 22,
   "metadata": {},
   "outputs": [],
   "source": [
    "database = pd.read_json(BASE_PATH).to_dict('records')"
   ]
  },
  {
   "cell_type": "markdown",
   "metadata": {},
   "source": [
    "### Carregar dados processados"
   ]
  },
  {
   "cell_type": "code",
   "execution_count": 23,
   "metadata": {},
   "outputs": [],
   "source": [
    "def loadJson(path:str):\n",
    "    aux = []\n",
    "    with open(path,'r') as f:\n",
    "        aux = json.load(f)\n",
    "        f.close()\n",
    "    return aux\n",
    "\n",
    "def normalizarDadoProcessado(dado:str,listaNormalizacao:dict) -> int:\n",
    "    return listaNormalizacao[dado] if listaNormalizacao.get(dado) != None else -1\n",
    "\n",
    "def normalizarTexto(texto:str,listaNormalizacao:list) -> list:\n",
    "    palavras_text_normalizadas = []\n",
    "    palavras_texto = texto.split(\" \")\n",
    "    for palavra in palavras_texto:\n",
    "        palavras_text_normalizadas.append(str(normalizarDadoProcessado(palavra,listaNormalizacao)))\n",
    "    return palavras_text_normalizadas\n",
    " "
   ]
  },
  {
   "cell_type": "code",
   "execution_count": 24,
   "metadata": {},
   "outputs": [],
   "source": [
    "categoriasDict = loadJson(CATEGORIAS_PROCESSADAS_PATH)\n",
    "origensDict = loadJson(ORIGENS_PROCESSADAS_PATH) \n",
    "rotulosDict = {\n",
    "    'falso': 0,\n",
    "    'verdade': 1,\n",
    "    'meia-verdade': 2\n",
    "}\n",
    "words2Id = loadJson(PALAVRAS_PARA_ID_PATH)"
   ]
  },
  {
   "cell_type": "code",
   "execution_count": 25,
   "metadata": {},
   "outputs": [],
   "source": [
    "for data in database:\n",
    "    data['categorias'] = [normalizarDadoProcessado(x,categoriasDict) for x in data['categorias']]\n",
    "    data['origem'] = normalizarDadoProcessado(data['origem'],origensDict)\n",
    "    data['data-publicacao'] = pd.to_datetime(data['data-publicacao']).timestamp()\n",
    "    data['rotulo'] = normalizarDadoProcessado(data['rotulo'],rotulosDict)\n",
    "    data['texto-normalizado'] = \" \".join(normalizarTexto(data['texto-normalizado'],words2Id))"
   ]
  },
  {
   "cell_type": "code",
   "execution_count": 27,
   "metadata": {},
   "outputs": [],
   "source": [
    "with open(f\"../base_processada/boatos_br_corpus_processada1_att.json\",'w',encoding=\"utf8\") as f:\n",
    "    json.dump(database,f,indent=2,allow_nan=True,ensure_ascii = False,separators=(',', ':'))\n",
    "    f.close()"
   ]
  }
 ],
 "metadata": {
  "kernelspec": {
   "display_name": "base",
   "language": "python",
   "name": "python3"
  },
  "language_info": {
   "codemirror_mode": {
    "name": "ipython",
    "version": 3
   },
   "file_extension": ".py",
   "mimetype": "text/x-python",
   "name": "python",
   "nbconvert_exporter": "python",
   "pygments_lexer": "ipython3",
   "version": "3.10.9"
  }
 },
 "nbformat": 4,
 "nbformat_minor": 2
}
