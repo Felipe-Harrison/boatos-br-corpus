{
 "cells": [
  {
   "cell_type": "markdown",
   "metadata": {},
   "source": [
    "## Imports"
   ]
  },
  {
   "cell_type": "code",
   "execution_count": 1,
   "metadata": {},
   "outputs": [],
   "source": [
    "import pandas as pd\n",
    "# Crawlers\n",
    "from SubCrawlers.BoatosCrawler import Boatos\n",
    "from datetime import datetime\n",
    "from time import time as now\n",
    "# Limpeza de textos\n",
    "import nltk\n",
    "import re\n",
    "import json"
   ]
  },
  {
   "cell_type": "markdown",
   "metadata": {},
   "source": [
    "## Utils"
   ]
  },
  {
   "cell_type": "code",
   "execution_count": 2,
   "metadata": {},
   "outputs": [
    {
     "name": "stderr",
     "output_type": "stream",
     "text": [
      "[nltk_data] Downloading package stopwords to\n",
      "[nltk_data]     C:\\Users\\harri\\AppData\\Roaming\\nltk_data...\n",
      "[nltk_data]   Package stopwords is already up-to-date!\n"
     ]
    }
   ],
   "source": [
    "BASE_DE_DADOS_ATUAL = \"../base_simples/boatos_br_corpus_simples.json\"\n",
    "# Ler Base de dados\n",
    "base_carregada = pd.read_json(BASE_DE_DADOS_ATUAL)\n",
    "\n",
    "# StopWords\n",
    "nltk.download('stopwords')\n",
    "stopwords_portugues = set(nltk.corpus.stopwords.words('portuguese'))"
   ]
  },
  {
   "cell_type": "markdown",
   "metadata": {},
   "source": [
    "## Crawler"
   ]
  },
  {
   "cell_type": "markdown",
   "metadata": {},
   "source": [
    "### Configurando Crawler"
   ]
  },
  {
   "cell_type": "code",
   "execution_count": 3,
   "metadata": {},
   "outputs": [],
   "source": [
    "URLS_INICIAIS = [\n",
    "    \"https://www.boatos.org/\",\n",
    "]\n",
    "ULTIMA_DATA_ATUAL = datetime.fromisoformat(base_carregada[\"data-publicacao\"][0])\n",
    "modelo = Boatos(urlsIniciais=URLS_INICIAIS)"
   ]
  },
  {
   "cell_type": "markdown",
   "metadata": {},
   "source": [
    "### Executando busca"
   ]
  },
  {
   "cell_type": "code",
   "execution_count": 4,
   "metadata": {},
   "outputs": [
    {
     "name": "stdout",
     "output_type": "stream",
     "text": [
      "Pagina:  https://www.boatos.org/\n",
      "Tempo gasto:  17.58s\n",
      "Pagina:  https://www.boatos.org/?paged=2\n",
      "Parando Busca...\n",
      "Tempo gasto:  11.69s\n"
     ]
    }
   ],
   "source": [
    "data = []\n",
    "# Buscar noticias novas -> Que não estão na base\n",
    "data = modelo.scrape(dateToStop=ULTIMA_DATA_ATUAL)"
   ]
  },
  {
   "cell_type": "markdown",
   "metadata": {},
   "source": [
    "### Normalizando Resultados da busca"
   ]
  },
  {
   "cell_type": "markdown",
   "metadata": {},
   "source": [
    "#### Logica de limpeza dos texto\n",
    "* Selecionar apenas letras (remover pontuação, números e outros caracteres)\n",
    "* Transformar palavras em minusculo\n",
    "* Remover stopwords\n",
    "* Manter emojis"
   ]
  },
  {
   "cell_type": "code",
   "execution_count": 5,
   "metadata": {},
   "outputs": [],
   "source": [
    "def buscaPalavras(texto:str) -> str:\n",
    "    palavrasMinusculas = re.findall(r'\\b[A-zÀ-úü]+\\b', texto.lower())\n",
    "    textoLimpo = [w for w in palavrasMinusculas if w not in stopwords_portugues]\n",
    "    return \" \".join(textoLimpo)"
   ]
  },
  {
   "cell_type": "markdown",
   "metadata": {},
   "source": [
    "#### Logica de Rotulação das noticias\n",
    "* Analisar se no texto possui alguma das frases presentes no dicionário criado"
   ]
  },
  {
   "cell_type": "code",
   "execution_count": 6,
   "metadata": {},
   "outputs": [],
   "source": [
    "# Dicionários\n",
    "CATEGORIASBOATOSFALSO = [\n",
    "    \"Fake news\",\n",
    "    \"fake news\",\n",
    "    \"Boato sem comprovação\",\n",
    "    \"Golpe\", \n",
    "    \"Enganoso\", \n",
    "    \"Exagerado\", \n",
    "    \"é falso\",\n",
    "    \"é falsa\",\n",
    "    \"não é verdade\",\n",
    "    \"não procede\",\n",
    "    \"não há provas\"\n",
    "]\n",
    "CATEGORIASBOATOSVERDADE = [\n",
    "    \"Verdadeiro\", \n",
    "    \"Real com erros\",\n",
    "    \"É fato\",\n",
    "]\n",
    "\n",
    "def defineRotulo(categorias):\n",
    "    for categoria in categorias:\n",
    "        if categoria in CATEGORIASBOATOSFALSO:\n",
    "            return 'falso'\n",
    "        if categoria in CATEGORIASBOATOSVERDADE:\n",
    "            return 'verdade'\n",
    "    return False\n",
    "\n",
    "def defineRotulobyText(text):\n",
    "    for categoria in CATEGORIASBOATOSFALSO:\n",
    "        if categoria in text:\n",
    "            return 'falso'\n",
    "    for categoria in CATEGORIASBOATOSVERDADE:\n",
    "        if categoria in text:\n",
    "            return 'verdade'\n",
    "    return False\n",
    "\n",
    "def AplicarRotulo(pageData):\n",
    "    \n",
    "    # Procura primeiro na categoria\n",
    "    rotulo = defineRotulo(pageData['categorias'])\n",
    "    # Se não encontrar procura nos outros atributos\n",
    "    atributos_verificar = ['texto','conclusao','titulo']\n",
    "    if not rotulo:\n",
    "        # Procurar para cada atributo\n",
    "        for attr in atributos_verificar:\n",
    "            rotulo = defineRotulobyText(pageData[attr])\n",
    "            if rotulo != False:\n",
    "                break\n",
    "        # Se não encontrar em nenhum\n",
    "        if not rotulo:\n",
    "            rotulo = \"NDA\"\n",
    "    \n",
    "    return rotulo"
   ]
  },
  {
   "cell_type": "markdown",
   "metadata": {},
   "source": [
    "### Simplificação da base"
   ]
  },
  {
   "cell_type": "markdown",
   "metadata": {},
   "source": [
    "#### Atributos \n",
    "- **url**: URL de onde foi obtido o texto.\n",
    "- **data-publicacao**: Data em que foi publicada a checagem do texto.\n",
    "- **origem**:  De qual site foi retirado\n",
    "- **categorias**: Categorias do boato, por exemplo: Política, Saúde, Mundo, entre outras.\n",
    "- **texto**: Texto original do boato que esta circulando na internet\n",
    "- **texto-normalizado**: Texto normalizado e limpo.\n",
    "- **rotulo**: Atributo alvo da previsão, podendo ser Verdadeiro ou Falso.\n"
   ]
  },
  {
   "cell_type": "code",
   "execution_count": 7,
   "metadata": {},
   "outputs": [],
   "source": [
    "class BoatosBrData:\n",
    "    def __init__(self,url,dataPublicacao,origem,categorias,texto,textoNormalizado,rotulo) -> None:\n",
    "        self.url  = url\n",
    "        self.datapublicacao = str(dataPublicacao)\n",
    "        self.origem = origem\n",
    "        self.categorias = categorias\n",
    "        self.texto = texto\n",
    "        self.textoNormalizado = textoNormalizado\n",
    "        self.rotulo = rotulo\n",
    "    \n",
    "    def getData(self) -> dict:\n",
    "        return {\n",
    "            'url': self.url,\n",
    "            'data-publicacao': self.datapublicacao,\n",
    "            'origem': self.origem,\n",
    "            'categorias': self.categorias,\n",
    "            'texto': self.texto,\n",
    "            'texto-normalizado': self.textoNormalizado,\n",
    "            'rotulo': self.rotulo,\n",
    "        }"
   ]
  },
  {
   "cell_type": "code",
   "execution_count": 8,
   "metadata": {},
   "outputs": [],
   "source": [
    "normalized_data = []\n",
    "# Simplificar \n",
    "for pageData in data:\n",
    "    boatosBrData = BoatosBrData(\n",
    "        url=pageData['url'],\n",
    "        dataPublicacao=pageData['data-publicacao'],\n",
    "        origem='boatosorg',\n",
    "        categorias=pageData['categorias'],\n",
    "        texto=pageData['referencia'],\n",
    "        textoNormalizado=buscaPalavras(pageData['referencia']),\n",
    "        rotulo=AplicarRotulo(pageData)\n",
    "    )\n",
    "    boatoData = boatosBrData.getData()\n",
    "    # Informar quais noticias serão rotuladas manualmente\n",
    "    if(boatoData['rotulo'] == \"NDA\"):\n",
    "        print(\"[ROTULAR] Não foi possível rotular: \", boatoData['url'])\n",
    "    normalized_data.append(boatoData)"
   ]
  },
  {
   "cell_type": "markdown",
   "metadata": {},
   "source": [
    "### Salvar Dados obtidos na base"
   ]
  },
  {
   "cell_type": "markdown",
   "metadata": {},
   "source": [
    "#### Unir dados novos com a base atual"
   ]
  },
  {
   "cell_type": "code",
   "execution_count": 9,
   "metadata": {},
   "outputs": [],
   "source": [
    "# dsNovo = pd.DataFrame(normalized_data)\n",
    "# ds = pd.concat([dsNovo,base_carregada],axis=0)"
   ]
  },
  {
   "cell_type": "markdown",
   "metadata": {},
   "source": [
    "### Preparar nova base"
   ]
  },
  {
   "cell_type": "markdown",
   "metadata": {},
   "source": [
    "- Remover da base, boatos que estão com dados faltando."
   ]
  },
  {
   "cell_type": "code",
   "execution_count": 10,
   "metadata": {},
   "outputs": [],
   "source": [
    "ds = pd.DataFrame(normalized_data)\n",
    "ds.dropna()\n",
    "ds = ds.to_dict('records')"
   ]
  },
  {
   "cell_type": "markdown",
   "metadata": {},
   "source": [
    "#### Criar nova base"
   ]
  },
  {
   "cell_type": "code",
   "execution_count": 11,
   "metadata": {},
   "outputs": [],
   "source": [
    "with open(f\"../base_simples/boatos_br_corpus_simples_att.json\",'w+',encoding=\"utf8\") as f:\n",
    "    json.dump(ds,f,indent=3,allow_nan=True,ensure_ascii = False)\n",
    "    f.close()"
   ]
  }
 ],
 "metadata": {
  "kernelspec": {
   "display_name": "base",
   "language": "python",
   "name": "python3"
  },
  "language_info": {
   "codemirror_mode": {
    "name": "ipython",
    "version": 3
   },
   "file_extension": ".py",
   "mimetype": "text/x-python",
   "name": "python",
   "nbconvert_exporter": "python",
   "pygments_lexer": "ipython3",
   "version": "3.10.9"
  }
 },
 "nbformat": 4,
 "nbformat_minor": 2
}
